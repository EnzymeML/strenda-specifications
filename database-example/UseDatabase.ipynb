{
 "cells": [
  {
   "cell_type": "code",
   "execution_count": null,
   "id": "a11cc25d-8c46-4f11-adee-b7bccba862b3",
   "metadata": {
    "scrolled": true
   },
   "outputs": [],
   "source": [
    "!pip install rich\n",
    "!pip install git+https://github.com/JR-1991/sdrdm-database.git"
   ]
  },
  {
   "cell_type": "code",
   "execution_count": 12,
   "id": "1c534e43-b832-4d0c-954d-9d6d7440814a",
   "metadata": {},
   "outputs": [
    {
     "name": "stdout",
     "output_type": "stream",
     "text": [
      "🎉 Connected                                                                                        \n"
     ]
    }
   ],
   "source": [
    "import rich\n",
    "\n",
    "from sdRDM import DataModel\n",
    "from sdrdm_database import DBConnector\n",
    "from sdrdm_database.dbconnector import SupportedBackends\n",
    "\n",
    "# Establish a connection to the database\n",
    "db = DBConnector(\n",
    "    username=\"root\",\n",
    "    password=\"root\",\n",
    "    host=\"localhost\",\n",
    "    db_name=\"db\",\n",
    "    port=3306,\n",
    "    dbtype=SupportedBackends.MYSQL\n",
    ")"
   ]
  },
  {
   "cell_type": "code",
   "execution_count": 3,
   "id": "f225b616-690c-4575-a1a8-d5f9fa5fc49e",
   "metadata": {},
   "outputs": [
    {
     "data": {
      "text/plain": [
       "['Activation',\n",
       " 'AssayConditions',\n",
       " 'Author',\n",
       " 'CompoundClassification',\n",
       " 'Dataset',\n",
       " 'Dataset_assay_conditions_AssayConditions',\n",
       " 'Dataset_results_set_ResultsSet',\n",
       " 'Experiment',\n",
       " 'Inhibition',\n",
       " 'InitialKineticsParameters',\n",
       " 'MacromolecularComponents',\n",
       " 'PosttranslationalModifications',\n",
       " 'ProteinDescription',\n",
       " 'ProteinDescription_protein_characterization_Dataset',\n",
       " 'ProteinReaction',\n",
       " 'ProteinSource',\n",
       " 'Publication',\n",
       " 'Publication_author_Author',\n",
       " 'Publication_experiment_Experiment',\n",
       " 'ResultsSet',\n",
       " 'RoleOfComponent',\n",
       " 'SequenceModifications',\n",
       " 'SmallAssayComponents',\n",
       " '__model_meta__']"
      ]
     },
     "execution_count": 3,
     "metadata": {},
     "output_type": "execute_result"
    }
   ],
   "source": [
    "# Check, if the tables have been created!\n",
    "db.connection.list_tables()"
   ]
  },
  {
   "cell_type": "code",
   "execution_count": 14,
   "id": "bb2c49e7-2f97-4c33-86c8-16b60c683808",
   "metadata": {},
   "outputs": [
    {
     "name": "stdout",
     "output_type": "stream",
     "text": [
      "Publication\n",
      "├── id [value=4c63272b-e99e-4e05-aa09-cf751fa4d62b]\n",
      "├── title [value=Test]\n",
      "├── doi [value=SomeDOI]\n",
      "├── pmid [value=SomePMID]\n",
      "└── author [value=None]\n",
      "    └── 0\n",
      "        └── Author\n",
      "            ├── id [value=02e113da-37b1-486f-8dfa-231ffcf11940]\n",
      "            ├── name [value=StrendaMan]\n",
      "            └── affiliation [value=Strenda]\n",
      "ClassNode(/Publication, class_name=None, constants={}, id=None, module=None, outer_type=None)\n"
     ]
    }
   ],
   "source": [
    "# Grab the \"Publication\" model from the Database\n",
    "Publication = db.get_table_api(\"Publication\")\n",
    "\n",
    "# Build dataset to insert later!\n",
    "dataset = Publication(title=\"Test\", doi=\"SomeDOI\", pmid=\"SomePMID\")\n",
    "dataset.add_to_author(name=\"StrendaMan\", affiliation=\"Strenda\")\n",
    "\n",
    "print(dataset.tree())"
   ]
  },
  {
   "cell_type": "code",
   "execution_count": 6,
   "id": "daa29c3d-17b5-41e5-a48b-b81da377eb46",
   "metadata": {},
   "outputs": [
    {
     "data": {
      "text/html": [
       "<pre style=\"white-space:pre;overflow-x:auto;line-height:normal;font-family:Menlo,'DejaVu Sans Mono',consolas,'Courier New',monospace\">✅ Inserted <span style=\"color: #008080; text-decoration-color: #008080; font-weight: bold\">1</span> rows into the database.\n",
       "</pre>\n"
      ],
      "text/plain": [
       "✅ Inserted \u001b[1;36m1\u001b[0m rows into the database.\n"
      ]
     },
     "metadata": {},
     "output_type": "display_data"
    }
   ],
   "source": [
    "# Insert the row into the database\n",
    "db.insert(dataset)"
   ]
  },
  {
   "cell_type": "code",
   "execution_count": 7,
   "id": "80aaf8db-2b7a-415d-8c33-b9748fc3e07a",
   "metadata": {},
   "outputs": [
    {
     "data": {
      "text/html": [
       "<pre style=\"white-space:pre;overflow-x:auto;line-height:normal;font-family:Menlo,'DejaVu Sans Mono',consolas,'Courier New',monospace\">✅ Inserted <span style=\"color: #008080; text-decoration-color: #008080; font-weight: bold\">20</span> rows into the database.\n",
       "</pre>\n"
      ],
      "text/plain": [
       "✅ Inserted \u001b[1;36m20\u001b[0m rows into the database.\n"
      ]
     },
     "metadata": {},
     "output_type": "display_data"
    }
   ],
   "source": [
    "# Let's create more random datasets\n",
    "import random\n",
    "\n",
    "options = [\"Strenda\", \"Biocatalysis\", \"EnzymeML\", \"Workshop\"] \n",
    "datasets = []\n",
    "\n",
    "for _ in range(20):\n",
    "    dataset = libStrenda.Publication(\n",
    "        title=random.choice(options),\n",
    "        doi=random.choice(options),\n",
    "        pmid=random.choice(options),\n",
    "    )\n",
    "    \n",
    "    dataset.add_to_author(name=\"StrendaMan\", affiliation=\"Strenda\")\n",
    "\n",
    "    datasets.append(dataset)\n",
    "\n",
    "# Add all of them at once!\n",
    "db.insert(*datasets)"
   ]
  },
  {
   "cell_type": "code",
   "execution_count": 16,
   "id": "a14bcacf-8998-4552-a94c-68af22b0f307",
   "metadata": {},
   "outputs": [
    {
     "data": {
      "text/html": [
       "<pre style=\"white-space:pre;overflow-x:auto;line-height:normal;font-family:Menlo,'DejaVu Sans Mono',consolas,'Courier New',monospace\"><span style=\"color: #008080; text-decoration-color: #008080; font-weight: bold\">21</span> entries found!\n",
       "</pre>\n"
      ],
      "text/plain": [
       "\u001b[1;36m21\u001b[0m entries found!\n"
      ]
     },
     "metadata": {},
     "output_type": "display_data"
    },
    {
     "name": "stdout",
     "output_type": "stream",
     "text": [
      "Publication\n",
      "├── id [value=00c65cff-21d0-493f-81aa-5d32d8992474]\n",
      "├── title [value=Test]\n",
      "├── doi [value=SomeDOI]\n",
      "├── pmid [value=SomePMID]\n",
      "└── author [value=None]\n",
      "    └── 0\n",
      "        └── Author\n",
      "            ├── id [value=6bf4f0db-82eb-431e-9eef-139a83149bca]\n",
      "            ├── name [value=StrendaMan]\n",
      "            └── affiliation [value=Strenda]\n"
     ]
    },
    {
     "data": {
      "text/html": [
       "<pre style=\"white-space:pre;overflow-x:auto;line-height:normal;font-family:Menlo,'DejaVu Sans Mono',consolas,'Courier New',monospace\"><span style=\"color: #800080; text-decoration-color: #800080; font-weight: bold\">ClassNode</span><span style=\"font-weight: bold\">(</span><span style=\"color: #800080; text-decoration-color: #800080\">/</span><span style=\"color: #ff00ff; text-decoration-color: #ff00ff\">Publication</span>, <span style=\"color: #808000; text-decoration-color: #808000\">class_name</span>=<span style=\"color: #800080; text-decoration-color: #800080; font-style: italic\">None</span>, <span style=\"color: #808000; text-decoration-color: #808000\">constants</span>=<span style=\"font-weight: bold\">{}</span>, <span style=\"color: #808000; text-decoration-color: #808000\">id</span>=<span style=\"color: #800080; text-decoration-color: #800080; font-style: italic\">None</span>, <span style=\"color: #808000; text-decoration-color: #808000\">module</span>=<span style=\"color: #800080; text-decoration-color: #800080; font-style: italic\">None</span>, <span style=\"color: #808000; text-decoration-color: #808000\">outer_type</span>=<span style=\"color: #800080; text-decoration-color: #800080; font-style: italic\">None</span><span style=\"font-weight: bold\">)</span>\n",
       "</pre>\n"
      ],
      "text/plain": [
       "\u001b[1;35mClassNode\u001b[0m\u001b[1m(\u001b[0m\u001b[35m/\u001b[0m\u001b[95mPublication\u001b[0m, \u001b[33mclass_name\u001b[0m=\u001b[3;35mNone\u001b[0m, \u001b[33mconstants\u001b[0m=\u001b[1m{\u001b[0m\u001b[1m}\u001b[0m, \u001b[33mid\u001b[0m=\u001b[3;35mNone\u001b[0m, \u001b[33mmodule\u001b[0m=\u001b[3;35mNone\u001b[0m, \u001b[33mouter_type\u001b[0m=\u001b[3;35mNone\u001b[0m\u001b[1m)\u001b[0m\n"
      ]
     },
     "metadata": {},
     "output_type": "display_data"
    }
   ],
   "source": [
    "# Lets fetch them from the database!\n",
    "result = db.get(db.get_table_api(\"Publication\"))\n",
    "\n",
    "# Should be 21! Lets inspect the amount and the first entry\n",
    "rich.print(f\"{len(result)} entries found!\")\n",
    "rich.print(result[0].tree())"
   ]
  },
  {
   "cell_type": "code",
   "execution_count": 17,
   "id": "931a7297-ca7a-4551-abaf-02bab72351d7",
   "metadata": {},
   "outputs": [
    {
     "data": {
      "text/html": [
       "<pre style=\"white-space:pre;overflow-x:auto;line-height:normal;font-family:Menlo,'DejaVu Sans Mono',consolas,'Courier New',monospace\">┏━━━━━━━━━━━━━━┳━━━━━━━━━━━━━━┳━━━━━━━━━━━━━━┳━━━━━━━━━━━━━━━━━━━━━━━━━━━━━━━━━━━━━━┓\n",
       "┃<span style=\"font-weight: bold\"> title        </span>┃<span style=\"font-weight: bold\"> doi          </span>┃<span style=\"font-weight: bold\"> pmid         </span>┃<span style=\"font-weight: bold\"> id                                   </span>┃\n",
       "┡━━━━━━━━━━━━━━╇━━━━━━━━━━━━━━╇━━━━━━━━━━━━━━╇━━━━━━━━━━━━━━━━━━━━━━━━━━━━━━━━━━━━━━┩\n",
       "│ <span style=\"color: #7f7f7f; text-decoration-color: #7f7f7f\">!string</span>      │ <span style=\"color: #7f7f7f; text-decoration-color: #7f7f7f\">string</span>       │ <span style=\"color: #7f7f7f; text-decoration-color: #7f7f7f\">string</span>       │ <span style=\"color: #7f7f7f; text-decoration-color: #7f7f7f\">!string</span>                              │\n",
       "├──────────────┼──────────────┼──────────────┼──────────────────────────────────────┤\n",
       "│ <span style=\"color: #008000; text-decoration-color: #008000\">Test        </span> │ <span style=\"color: #008000; text-decoration-color: #008000\">SomeDOI     </span> │ <span style=\"color: #008000; text-decoration-color: #008000\">SomePMID    </span> │ <span style=\"color: #008000; text-decoration-color: #008000\">00c65cff-21d0-493f-81aa-5d32d8992474</span> │\n",
       "│ <span style=\"color: #008000; text-decoration-color: #008000\">Workshop    </span> │ <span style=\"color: #008000; text-decoration-color: #008000\">Biocatalysis</span> │ <span style=\"color: #008000; text-decoration-color: #008000\">Biocatalysis</span> │ <span style=\"color: #008000; text-decoration-color: #008000\">0b345fa6-7b82-4544-ac66-f08f3e91cfee</span> │\n",
       "│ <span style=\"color: #008000; text-decoration-color: #008000\">Workshop    </span> │ <span style=\"color: #008000; text-decoration-color: #008000\">Biocatalysis</span> │ <span style=\"color: #008000; text-decoration-color: #008000\">Workshop    </span> │ <span style=\"color: #008000; text-decoration-color: #008000\">0f25b517-1a5e-4da8-8dc9-7b5a87658832</span> │\n",
       "│ <span style=\"color: #008000; text-decoration-color: #008000\">EnzymeML    </span> │ <span style=\"color: #008000; text-decoration-color: #008000\">Workshop    </span> │ <span style=\"color: #008000; text-decoration-color: #008000\">Strenda     </span> │ <span style=\"color: #008000; text-decoration-color: #008000\">20ac6092-8697-4714-a120-9e476d3a613f</span> │\n",
       "│ <span style=\"color: #008000; text-decoration-color: #008000\">Workshop    </span> │ <span style=\"color: #008000; text-decoration-color: #008000\">Strenda     </span> │ <span style=\"color: #008000; text-decoration-color: #008000\">Workshop    </span> │ <span style=\"color: #008000; text-decoration-color: #008000\">267b9093-0252-47b8-96f2-5fae11398c44</span> │\n",
       "│ <span style=\"color: #008000; text-decoration-color: #008000\">Workshop    </span> │ <span style=\"color: #008000; text-decoration-color: #008000\">Strenda     </span> │ <span style=\"color: #008000; text-decoration-color: #008000\">Strenda     </span> │ <span style=\"color: #008000; text-decoration-color: #008000\">289c4ab5-1677-4c7b-886a-d84b88b164a3</span> │\n",
       "│ <span style=\"color: #008000; text-decoration-color: #008000\">Workshop    </span> │ <span style=\"color: #008000; text-decoration-color: #008000\">EnzymeML    </span> │ <span style=\"color: #008000; text-decoration-color: #008000\">EnzymeML    </span> │ <span style=\"color: #008000; text-decoration-color: #008000\">3b63d1dc-a6bd-4fb1-a65a-ae6af97712cc</span> │\n",
       "│ <span style=\"color: #008000; text-decoration-color: #008000\">Biocatalysis</span> │ <span style=\"color: #008000; text-decoration-color: #008000\">Biocatalysis</span> │ <span style=\"color: #008000; text-decoration-color: #008000\">EnzymeML    </span> │ <span style=\"color: #008000; text-decoration-color: #008000\">3da1b160-5e29-47bb-9912-3d32193b2486</span> │\n",
       "│ <span style=\"color: #008000; text-decoration-color: #008000\">Strenda     </span> │ <span style=\"color: #008000; text-decoration-color: #008000\">Biocatalysis</span> │ <span style=\"color: #008000; text-decoration-color: #008000\">Workshop    </span> │ <span style=\"color: #008000; text-decoration-color: #008000\">44f9a8af-c387-4a65-9761-de63ffbc75e0</span> │\n",
       "│ <span style=\"color: #008000; text-decoration-color: #008000\">Strenda     </span> │ <span style=\"color: #008000; text-decoration-color: #008000\">Strenda     </span> │ <span style=\"color: #008000; text-decoration-color: #008000\">Biocatalysis</span> │ <span style=\"color: #008000; text-decoration-color: #008000\">4d108d69-4f02-4ada-a506-52198f7e64c7</span> │\n",
       "│ <span style=\"color: #7f7f7f; text-decoration-color: #7f7f7f\">…</span>            │ <span style=\"color: #7f7f7f; text-decoration-color: #7f7f7f\">…</span>            │ <span style=\"color: #7f7f7f; text-decoration-color: #7f7f7f\">…</span>            │ <span style=\"color: #7f7f7f; text-decoration-color: #7f7f7f\">…</span>                                    │\n",
       "└──────────────┴──────────────┴──────────────┴──────────────────────────────────────┘\n",
       "</pre>\n"
      ],
      "text/plain": [
       "┏━━━━━━━━━━━━━━┳━━━━━━━━━━━━━━┳━━━━━━━━━━━━━━┳━━━━━━━━━━━━━━━━━━━━━━━━━━━━━━━━━━━━━━┓\n",
       "┃\u001b[1m \u001b[0m\u001b[1mtitle\u001b[0m\u001b[1m       \u001b[0m\u001b[1m \u001b[0m┃\u001b[1m \u001b[0m\u001b[1mdoi\u001b[0m\u001b[1m         \u001b[0m\u001b[1m \u001b[0m┃\u001b[1m \u001b[0m\u001b[1mpmid\u001b[0m\u001b[1m        \u001b[0m\u001b[1m \u001b[0m┃\u001b[1m \u001b[0m\u001b[1mid\u001b[0m\u001b[1m                                  \u001b[0m\u001b[1m \u001b[0m┃\n",
       "┡━━━━━━━━━━━━━━╇━━━━━━━━━━━━━━╇━━━━━━━━━━━━━━╇━━━━━━━━━━━━━━━━━━━━━━━━━━━━━━━━━━━━━━┩\n",
       "│ \u001b[2m!string\u001b[0m      │ \u001b[2mstring\u001b[0m       │ \u001b[2mstring\u001b[0m       │ \u001b[2m!string\u001b[0m                              │\n",
       "├──────────────┼──────────────┼──────────────┼──────────────────────────────────────┤\n",
       "│ \u001b[32mTest        \u001b[0m │ \u001b[32mSomeDOI     \u001b[0m │ \u001b[32mSomePMID    \u001b[0m │ \u001b[32m00c65cff-21d0-493f-81aa-5d32d8992474\u001b[0m │\n",
       "│ \u001b[32mWorkshop    \u001b[0m │ \u001b[32mBiocatalysis\u001b[0m │ \u001b[32mBiocatalysis\u001b[0m │ \u001b[32m0b345fa6-7b82-4544-ac66-f08f3e91cfee\u001b[0m │\n",
       "│ \u001b[32mWorkshop    \u001b[0m │ \u001b[32mBiocatalysis\u001b[0m │ \u001b[32mWorkshop    \u001b[0m │ \u001b[32m0f25b517-1a5e-4da8-8dc9-7b5a87658832\u001b[0m │\n",
       "│ \u001b[32mEnzymeML    \u001b[0m │ \u001b[32mWorkshop    \u001b[0m │ \u001b[32mStrenda     \u001b[0m │ \u001b[32m20ac6092-8697-4714-a120-9e476d3a613f\u001b[0m │\n",
       "│ \u001b[32mWorkshop    \u001b[0m │ \u001b[32mStrenda     \u001b[0m │ \u001b[32mWorkshop    \u001b[0m │ \u001b[32m267b9093-0252-47b8-96f2-5fae11398c44\u001b[0m │\n",
       "│ \u001b[32mWorkshop    \u001b[0m │ \u001b[32mStrenda     \u001b[0m │ \u001b[32mStrenda     \u001b[0m │ \u001b[32m289c4ab5-1677-4c7b-886a-d84b88b164a3\u001b[0m │\n",
       "│ \u001b[32mWorkshop    \u001b[0m │ \u001b[32mEnzymeML    \u001b[0m │ \u001b[32mEnzymeML    \u001b[0m │ \u001b[32m3b63d1dc-a6bd-4fb1-a65a-ae6af97712cc\u001b[0m │\n",
       "│ \u001b[32mBiocatalysis\u001b[0m │ \u001b[32mBiocatalysis\u001b[0m │ \u001b[32mEnzymeML    \u001b[0m │ \u001b[32m3da1b160-5e29-47bb-9912-3d32193b2486\u001b[0m │\n",
       "│ \u001b[32mStrenda     \u001b[0m │ \u001b[32mBiocatalysis\u001b[0m │ \u001b[32mWorkshop    \u001b[0m │ \u001b[32m44f9a8af-c387-4a65-9761-de63ffbc75e0\u001b[0m │\n",
       "│ \u001b[32mStrenda     \u001b[0m │ \u001b[32mStrenda     \u001b[0m │ \u001b[32mBiocatalysis\u001b[0m │ \u001b[32m4d108d69-4f02-4ada-a506-52198f7e64c7\u001b[0m │\n",
       "│ \u001b[2m…\u001b[0m            │ \u001b[2m…\u001b[0m            │ \u001b[2m…\u001b[0m            │ \u001b[2m…\u001b[0m                                    │\n",
       "└──────────────┴──────────────┴──────────────┴──────────────────────────────────────┘"
      ]
     },
     "execution_count": 17,
     "metadata": {},
     "output_type": "execute_result"
    }
   ],
   "source": [
    "# You can also view individual tables\n",
    "db.connection.table(\"Publication\")"
   ]
  },
  {
   "cell_type": "code",
   "execution_count": 19,
   "id": "f8cad996-655f-46c3-b95e-2dc343e27717",
   "metadata": {},
   "outputs": [
    {
     "data": {
      "text/html": [
       "<pre style=\"white-space:pre;overflow-x:auto;line-height:normal;font-family:Menlo,'DejaVu Sans Mono',consolas,'Courier New',monospace\">✅ Inserted <span style=\"color: #008080; text-decoration-color: #008080; font-weight: bold\">1</span> rows into the database.\n",
       "</pre>\n"
      ],
      "text/plain": [
       "✅ Inserted \u001b[1;36m1\u001b[0m rows into the database.\n"
      ]
     },
     "metadata": {},
     "output_type": "display_data"
    },
    {
     "data": {
      "text/html": [
       "<pre style=\"white-space:pre;overflow-x:auto;line-height:normal;font-family:Menlo,'DejaVu Sans Mono',consolas,'Courier New',monospace\"></pre>\n"
      ],
      "text/plain": []
     },
     "metadata": {},
     "output_type": "display_data"
    },
    {
     "name": "stdout",
     "output_type": "stream",
     "text": [
      "┏━━━━━━━━━━━━┳━━━━━━━━━━━━━┳━━━━━━━━┳━━━━━━━━┳━━━━━━━━━━━━━━━━━━━━━━━━━━━━━━━━━━━━━━┓\n",
      "┃\u001b[1m \u001b[0m\u001b[1mname\u001b[0m\u001b[1m      \u001b[0m\u001b[1m \u001b[0m┃\u001b[1m \u001b[0m\u001b[1maffiliation\u001b[0m\u001b[1m \u001b[0m┃\u001b[1m \u001b[0m\u001b[1memail\u001b[0m\u001b[1m \u001b[0m\u001b[1m \u001b[0m┃\u001b[1m \u001b[0m\u001b[1morcid\u001b[0m\u001b[1m \u001b[0m\u001b[1m \u001b[0m┃\u001b[1m \u001b[0m\u001b[1mid\u001b[0m\u001b[1m                                  \u001b[0m\u001b[1m \u001b[0m┃\n",
      "┡━━━━━━━━━━━━╇━━━━━━━━━━━━━╇━━━━━━━━╇━━━━━━━━╇━━━━━━━━━━━━━━━━━━━━━━━━━━━━━━━━━━━━━━┩\n",
      "│ \u001b[2m!string\u001b[0m    │ \u001b[2mstring\u001b[0m      │ \u001b[2mstring\u001b[0m │ \u001b[2mstring\u001b[0m │ \u001b[2m!string\u001b[0m                              │\n",
      "├────────────┼─────────────┼────────┼────────┼──────────────────────────────────────┤\n",
      "│ \u001b[32mStrendaMan\u001b[0m │ \u001b[32mStrenda    \u001b[0m │ \u001b[2mNULL\u001b[0m   │ \u001b[2mNULL\u001b[0m   │ \u001b[32m00594dae-d6e0-4b6e-812f-0b994359f4af\u001b[0m │\n",
      "│ \u001b[32mStrendaMan\u001b[0m │ \u001b[32mStrenda    \u001b[0m │ \u001b[2mNULL\u001b[0m   │ \u001b[2mNULL\u001b[0m   │ \u001b[32m1c60c513-a4e8-49c3-beb5-a07fa5022574\u001b[0m │\n",
      "│ \u001b[32mStrendaMan\u001b[0m │ \u001b[32mStrenda    \u001b[0m │ \u001b[2mNULL\u001b[0m   │ \u001b[2mNULL\u001b[0m   │ \u001b[32m261012b1-446d-48da-8d70-8225256a497b\u001b[0m │\n",
      "│ \u001b[32mStrendaMan\u001b[0m │ \u001b[32mStrenda    \u001b[0m │ \u001b[2mNULL\u001b[0m   │ \u001b[2mNULL\u001b[0m   │ \u001b[32m33cce500-64de-4e8a-b64d-3f78c30a8367\u001b[0m │\n",
      "│ \u001b[32mStrendaMan\u001b[0m │ \u001b[32mStrenda    \u001b[0m │ \u001b[2mNULL\u001b[0m   │ \u001b[2mNULL\u001b[0m   │ \u001b[32m3e28623f-c5e7-4887-8025-bcd8f21afd29\u001b[0m │\n",
      "│ \u001b[32mStrendaMan\u001b[0m │ \u001b[32mStrenda    \u001b[0m │ \u001b[2mNULL\u001b[0m   │ \u001b[2mNULL\u001b[0m   │ \u001b[32m4362f522-28ad-4a73-95a8-171f24f2c4b3\u001b[0m │\n",
      "│ \u001b[32mStrendaMan\u001b[0m │ \u001b[32mStrenda    \u001b[0m │ \u001b[2mNULL\u001b[0m   │ \u001b[2mNULL\u001b[0m   │ \u001b[32m461f8c9d-8a75-4cd0-9f9c-2d8ab3414872\u001b[0m │\n",
      "│ \u001b[32mJohn Doe  \u001b[0m │ \u001b[2mNULL\u001b[0m        │ \u001b[2mNULL\u001b[0m   │ \u001b[2mNULL\u001b[0m   │ \u001b[32m58c672ad-962e-45df-b820-e384003455b7\u001b[0m │\n",
      "│ \u001b[32mStrendaMan\u001b[0m │ \u001b[32mStrenda    \u001b[0m │ \u001b[2mNULL\u001b[0m   │ \u001b[2mNULL\u001b[0m   │ \u001b[32m5b0931b8-cb72-4c7d-bc49-4d1fee79d551\u001b[0m │\n",
      "│ \u001b[32mJohn Doe  \u001b[0m │ \u001b[2mNULL\u001b[0m        │ \u001b[2mNULL\u001b[0m   │ \u001b[2mNULL\u001b[0m   │ \u001b[32m5e407774-8196-4800-bb5f-ea9e1633c85e\u001b[0m │\n",
      "│ \u001b[2m…\u001b[0m          │ \u001b[2m…\u001b[0m           │ \u001b[2m…\u001b[0m      │ \u001b[2m…\u001b[0m      │ \u001b[2m…\u001b[0m                                    │\n",
      "└────────────┴─────────────┴────────┴────────┴──────────────────────────────────────┘\n"
     ]
    },
    {
     "data": {
      "text/html": [
       "<pre style=\"white-space:pre;overflow-x:auto;line-height:normal;font-family:Menlo,'DejaVu Sans Mono',consolas,'Courier New',monospace\">Looking for John Doe\n",
       "</pre>\n"
      ],
      "text/plain": [
       "Looking for John Doe\n"
      ]
     },
     "metadata": {},
     "output_type": "display_data"
    },
    {
     "data": {
      "text/html": [
       "<pre style=\"white-space:pre;overflow-x:auto;line-height:normal;font-family:Menlo,'DejaVu Sans Mono',consolas,'Courier New',monospace\">┏━━━━━━━━━━┳━━━━━━━━━━━━━┳━━━━━━━━┳━━━━━━━━┳━━━━━━━━━━━━━━━━━━━━━━━━━━━━━━━━━━━━━━┓\n",
       "┃<span style=\"font-weight: bold\"> name     </span>┃<span style=\"font-weight: bold\"> affiliation </span>┃<span style=\"font-weight: bold\"> email  </span>┃<span style=\"font-weight: bold\"> orcid  </span>┃<span style=\"font-weight: bold\"> id                                   </span>┃\n",
       "┡━━━━━━━━━━╇━━━━━━━━━━━━━╇━━━━━━━━╇━━━━━━━━╇━━━━━━━━━━━━━━━━━━━━━━━━━━━━━━━━━━━━━━┩\n",
       "│ <span style=\"color: #7f7f7f; text-decoration-color: #7f7f7f\">!string</span>  │ <span style=\"color: #7f7f7f; text-decoration-color: #7f7f7f\">string</span>      │ <span style=\"color: #7f7f7f; text-decoration-color: #7f7f7f\">string</span> │ <span style=\"color: #7f7f7f; text-decoration-color: #7f7f7f\">string</span> │ <span style=\"color: #7f7f7f; text-decoration-color: #7f7f7f\">!string</span>                              │\n",
       "├──────────┼─────────────┼────────┼────────┼──────────────────────────────────────┤\n",
       "│ <span style=\"color: #008000; text-decoration-color: #008000\">John Doe</span> │ <span style=\"color: #7f7f7f; text-decoration-color: #7f7f7f\">NULL</span>        │ <span style=\"color: #7f7f7f; text-decoration-color: #7f7f7f\">NULL</span>   │ <span style=\"color: #7f7f7f; text-decoration-color: #7f7f7f\">NULL</span>   │ <span style=\"color: #008000; text-decoration-color: #008000\">58c672ad-962e-45df-b820-e384003455b7</span> │\n",
       "│ <span style=\"color: #008000; text-decoration-color: #008000\">John Doe</span> │ <span style=\"color: #7f7f7f; text-decoration-color: #7f7f7f\">NULL</span>        │ <span style=\"color: #7f7f7f; text-decoration-color: #7f7f7f\">NULL</span>   │ <span style=\"color: #7f7f7f; text-decoration-color: #7f7f7f\">NULL</span>   │ <span style=\"color: #008000; text-decoration-color: #008000\">5e407774-8196-4800-bb5f-ea9e1633c85e</span> │\n",
       "└──────────┴─────────────┴────────┴────────┴──────────────────────────────────────┘\n",
       "</pre>\n"
      ],
      "text/plain": [
       "┏━━━━━━━━━━┳━━━━━━━━━━━━━┳━━━━━━━━┳━━━━━━━━┳━━━━━━━━━━━━━━━━━━━━━━━━━━━━━━━━━━━━━━┓\n",
       "┃\u001b[1m \u001b[0m\u001b[1mname\u001b[0m\u001b[1m    \u001b[0m\u001b[1m \u001b[0m┃\u001b[1m \u001b[0m\u001b[1maffiliation\u001b[0m\u001b[1m \u001b[0m┃\u001b[1m \u001b[0m\u001b[1memail\u001b[0m\u001b[1m \u001b[0m\u001b[1m \u001b[0m┃\u001b[1m \u001b[0m\u001b[1morcid\u001b[0m\u001b[1m \u001b[0m\u001b[1m \u001b[0m┃\u001b[1m \u001b[0m\u001b[1mid\u001b[0m\u001b[1m                                  \u001b[0m\u001b[1m \u001b[0m┃\n",
       "┡━━━━━━━━━━╇━━━━━━━━━━━━━╇━━━━━━━━╇━━━━━━━━╇━━━━━━━━━━━━━━━━━━━━━━━━━━━━━━━━━━━━━━┩\n",
       "│ \u001b[2m!string\u001b[0m  │ \u001b[2mstring\u001b[0m      │ \u001b[2mstring\u001b[0m │ \u001b[2mstring\u001b[0m │ \u001b[2m!string\u001b[0m                              │\n",
       "├──────────┼─────────────┼────────┼────────┼──────────────────────────────────────┤\n",
       "│ \u001b[32mJohn Doe\u001b[0m │ \u001b[2mNULL\u001b[0m        │ \u001b[2mNULL\u001b[0m   │ \u001b[2mNULL\u001b[0m   │ \u001b[32m58c672ad-962e-45df-b820-e384003455b7\u001b[0m │\n",
       "│ \u001b[32mJohn Doe\u001b[0m │ \u001b[2mNULL\u001b[0m        │ \u001b[2mNULL\u001b[0m   │ \u001b[2mNULL\u001b[0m   │ \u001b[32m5e407774-8196-4800-bb5f-ea9e1633c85e\u001b[0m │\n",
       "└──────────┴─────────────┴────────┴────────┴──────────────────────────────────────┘"
      ]
     },
     "execution_count": 19,
     "metadata": {},
     "output_type": "execute_result"
    }
   ],
   "source": [
    "# Suppose, we only want to add an author. You can proceed in the same way as above.\n",
    "Author = db.get_table_api(\"Author\")\n",
    "author1 = Author(name=\"John Doe\")\n",
    "\n",
    "# Add and lets check the table\n",
    "db.insert(author1)\n",
    "table = db.connection.table(\"Author\")\n",
    "print(table)\n",
    "\n",
    "# We can also filter the table\n",
    "rich.print(\"Looking for John Doe\")\n",
    "table[table.name == \"John Doe\"]"
   ]
  }
 ],
 "metadata": {
  "kernelspec": {
   "display_name": "sdrdmdb",
   "language": "python",
   "name": "sdrdmdb"
  },
  "language_info": {
   "codemirror_mode": {
    "name": "ipython",
    "version": 3
   },
   "file_extension": ".py",
   "mimetype": "text/x-python",
   "name": "python",
   "nbconvert_exporter": "python",
   "pygments_lexer": "ipython3",
   "version": "3.11.9"
  }
 },
 "nbformat": 4,
 "nbformat_minor": 5
}
