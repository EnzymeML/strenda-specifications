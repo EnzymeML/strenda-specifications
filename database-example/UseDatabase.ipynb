{
 "cells": [
  {
   "cell_type": "code",
   "execution_count": 1,
   "id": "1c534e43-b832-4d0c-954d-9d6d7440814a",
   "metadata": {},
   "outputs": [
    {
     "name": "stdout",
     "output_type": "stream",
     "text": [
      "🎉 Connected                                                                                        \n"
     ]
    }
   ],
   "source": [
    "from sdRDM import DataModel\n",
    "from sdrdm_database import DBConnector\n",
    "from sdrdm_database.dbconnector import SupportedBackends\n",
    "\n",
    "# Establish a connection to the database\n",
    "db = DBConnector(\n",
    "    username=\"root\",\n",
    "    password=\"root\",\n",
    "    host=\"localhost\",\n",
    "    db_name=\"db\",\n",
    "    port=3306,\n",
    "    dbtype=SupportedBackends.MYSQL\n",
    ")"
   ]
  },
  {
   "cell_type": "code",
   "execution_count": 2,
   "id": "fcc59938-9f63-43d6-b34e-4d67acf5151f",
   "metadata": {},
   "outputs": [],
   "source": [
    "# Build Python classes\n",
    "libStrenda = DataModel.from_markdown(\"../specifications/STRENDADB_light_20240208.md\")"
   ]
  },
  {
   "cell_type": "code",
   "execution_count": 4,
   "id": "f225b616-690c-4575-a1a8-d5f9fa5fc49e",
   "metadata": {},
   "outputs": [
    {
     "data": {
      "text/plain": [
       "['Activation',\n",
       " 'AssayConditions',\n",
       " 'Author',\n",
       " 'Dataset',\n",
       " 'Dataset_assay_conditions_AssayConditions',\n",
       " 'Dataset_result_set_ResultsSet',\n",
       " 'Experiment',\n",
       " 'Inhibition',\n",
       " 'InitialKinetics',\n",
       " 'MacromolecularComponents',\n",
       " 'Modifications',\n",
       " 'Parameter',\n",
       " 'ProteinDescription',\n",
       " 'ProteinDescription_characteristics_Dataset',\n",
       " 'ProteinReaction',\n",
       " 'ProteinSource',\n",
       " 'Publication',\n",
       " 'Publication_author_Author',\n",
       " 'Publication_experiment_Experiment',\n",
       " 'ResultsSet',\n",
       " 'RoleOfComponent',\n",
       " 'SmallAssayComponents',\n",
       " '__model_meta__']"
      ]
     },
     "execution_count": 4,
     "metadata": {},
     "output_type": "execute_result"
    }
   ],
   "source": [
    "# Check tables\n",
    "db.connection.list_tables()"
   ]
  },
  {
   "cell_type": "code",
   "execution_count": 3,
   "id": "bb2c49e7-2f97-4c33-86c8-16b60c683808",
   "metadata": {},
   "outputs": [
    {
     "name": "stdout",
     "output_type": "stream",
     "text": [
      "Publication\n",
      "├── id [value=daf3d60d-de35-401a-99a8-8216f5116b4e]\n",
      "├── doi [value=SomeDOI]\n",
      "├── pmid [value=SomePMID]\n",
      "├── author [value=None]\n",
      "│   └── 0\n",
      "│       └── Author\n",
      "│           ├── id [value=8fc97783-978f-497b-8c83-662e0fcd8799]\n",
      "│           ├── name [value=StrendaMan]\n",
      "│           └── affiliation [value=Strenda]\n",
      "└── experiment [value=None]\n",
      "    └── 0\n",
      "        └── Experiment\n",
      "            ├── id [value=f45cf9d6-8662-4f45-b649-b5e323b3e5d5]\n",
      "            ├── name [value=Experiment]\n",
      "            └── assay_type [value=Type]\n",
      "ClassNode(/Publication, class_name=None, constants={}, id=None, module=None, outer_type=None)\n"
     ]
    }
   ],
   "source": [
    "# Build dataset to insert later\n",
    "dataset = libStrenda.Publication(doi=\"SomeDOI\", pmid=\"SomePMID\")\n",
    "dataset.add_to_author(name=\"StrendaMan\", affiliation=\"Strenda\")\n",
    "\n",
    "experiment = dataset.add_to_experiment(\n",
    "    name=\"Experiment\",\n",
    "    assay_type=\"Type\",\n",
    ")\n",
    "\n",
    "print(dataset.tree())"
   ]
  }
 ],
 "metadata": {
  "kernelspec": {
   "display_name": "sdrdmdb",
   "language": "python",
   "name": "sdrdmdb"
  },
  "language_info": {
   "codemirror_mode": {
    "name": "ipython",
    "version": 3
   },
   "file_extension": ".py",
   "mimetype": "text/x-python",
   "name": "python",
   "nbconvert_exporter": "python",
   "pygments_lexer": "ipython3",
   "version": "3.11.9"
  }
 },
 "nbformat": 4,
 "nbformat_minor": 5
}
