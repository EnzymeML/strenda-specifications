{
 "cells": [
  {
   "cell_type": "code",
   "execution_count": 1,
   "metadata": {},
   "outputs": [],
   "source": [
    "try:\n",
    "    import sdRDM\n",
    "except ImportError:\n",
    "    !pip install git+https://github.com/JR-1991/software-driven-rdm.git@linking-refactor"
   ]
  },
  {
   "cell_type": "code",
   "execution_count": 2,
   "metadata": {},
   "outputs": [],
   "source": [
    "from sdRDM import DataModel"
   ]
  },
  {
   "cell_type": "code",
   "execution_count": 4,
   "metadata": {},
   "outputs": [
    {
     "data": {
      "text/plain": [
       "\u001b[96mObjects\u001b[0m Manuscript, ExperimentDetails, Protein, AssayConditions, KineticParameters,\n",
       "        InhibitionParameters, ActivationParameters\n",
       "\u001b[96mEnums\u001b[0m   CompoundRoles, InhibitionType"
      ]
     },
     "execution_count": 4,
     "metadata": {},
     "output_type": "execute_result"
    }
   ],
   "source": [
    "lib = DataModel.from_markdown(\"./specifications/strenda-specs.md\")\n",
    "lib"
   ]
  },
  {
   "cell_type": "code",
   "execution_count": 8,
   "metadata": {},
   "outputs": [
    {
     "name": "stdout",
     "output_type": "stream",
     "text": [
      "Manuscript\n",
      "├── id\n",
      "├── author_names\n",
      "├── DOI\n",
      "└── PMID\n",
      "\n",
      "\n",
      "ExperimentDetails\n",
      "├── id\n",
      "└── methodology\n",
      "\n",
      "\n",
      "Protein\n",
      "├── id\n",
      "├── protein_id\n",
      "├── name\n",
      "├── sequence\n",
      "├── ec_number\n",
      "├── reaction\n",
      "└── assayed_reaction\n",
      "\n",
      "\n",
      "AssayConditions\n",
      "├── id\n",
      "├── assay_components\n",
      "├── compound_name\n",
      "├── inchi\n",
      "├── iupac_name\n",
      "├── database_id\n",
      "├── concentration\n",
      "├── protein_concentration\n",
      "├── ph\n",
      "└── role\n",
      "\n",
      "\n",
      "KineticParameters\n",
      "├── id\n",
      "├── Km\n",
      "├── kcat\n",
      "├── V\n",
      "├── kcat_over_km\n",
      "└── V_over_km\n",
      "\n",
      "\n",
      "InhibitionParameters\n",
      "├── id\n",
      "├── reversible\n",
      "├── inhibition_type\n",
      "├── Kic\n",
      "├── Kiu\n",
      "└── Ki\n",
      "\n",
      "\n",
      "ActivationParameters\n",
      "├── id\n",
      "├── activation_affinity_constant\n",
      "├── velocity_at_no_activator\n",
      "└── velocity_at_max_activator\n",
      "\n",
      "\n"
     ]
    }
   ],
   "source": [
    "# Thsi model requires to be \"wired\" within a root object\n",
    "for obj in lib.values():\n",
    "    if not hasattr(obj, \"__fields__\"):\n",
    "        continue\n",
    "    \n",
    "    obj.meta_tree()\n",
    "    print(\"\\n\")"
   ]
  }
 ],
 "metadata": {
  "kernelspec": {
   "display_name": "sdrdm",
   "language": "python",
   "name": "python3"
  },
  "language_info": {
   "codemirror_mode": {
    "name": "ipython",
    "version": 3
   },
   "file_extension": ".py",
   "mimetype": "text/x-python",
   "name": "python",
   "nbconvert_exporter": "python",
   "pygments_lexer": "ipython3",
   "version": "3.10.9"
  },
  "orig_nbformat": 4
 },
 "nbformat": 4,
 "nbformat_minor": 2
}
