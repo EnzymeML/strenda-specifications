{
 "cells": [
  {
   "cell_type": "code",
   "execution_count": 1,
   "metadata": {},
   "outputs": [],
   "source": [
    "try:\n",
    "    import sdRDM\n",
    "except ImportError:\n",
    "    !pip install git+https://github.com/JR-1991/software-driven-rdm.git@linking-refactor"
   ]
  },
  {
   "cell_type": "code",
   "execution_count": 2,
   "metadata": {},
   "outputs": [],
   "source": [
    "from sdRDM import DataModel"
   ]
  },
  {
   "cell_type": "code",
   "execution_count": 3,
   "metadata": {},
   "outputs": [
    {
     "data": {
      "text/plain": [
       "\u001b[96mObjects\u001b[0m Dataset, Manuscript, Experiment, Protein, AssayConditions, Result,\n",
       "        KineticParameters, InhibitionParameters, ActivationParameters\n",
       "\u001b[96mEnums\u001b[0m   CompoundRoles, InhibitionType"
      ]
     },
     "execution_count": 3,
     "metadata": {},
     "output_type": "execute_result"
    }
   ],
   "source": [
    "lib = DataModel.from_markdown(\"./specifications/strenda-specs.md\")\n",
    "lib"
   ]
  },
  {
   "cell_type": "code",
   "execution_count": 5,
   "metadata": {},
   "outputs": [
    {
     "name": "stdout",
     "output_type": "stream",
     "text": [
      "Dataset\n",
      "├── id\n",
      "├── manuscript\n",
      "│   ├── id\n",
      "│   ├── author_names\n",
      "│   ├── DOI\n",
      "│   └── PMID\n",
      "├── experiments\n",
      "│   └── 0\n",
      "│       ├── id\n",
      "│       ├── methodology\n",
      "│       ├── proteins\n",
      "│       │   └── 0\n",
      "│       │       ├── id\n",
      "│       │       ├── protein_id\n",
      "│       │       ├── name\n",
      "│       │       ├── sequence\n",
      "│       │       ├── ec_number\n",
      "│       │       ├── reaction\n",
      "│       │       └── assayed_reaction\n",
      "│       └── assay_conditions\n",
      "│           ├── id\n",
      "│           ├── assay_components\n",
      "│           ├── compound_name\n",
      "│           ├── inchi\n",
      "│           ├── iupac_name\n",
      "│           ├── database_id\n",
      "│           ├── concentration\n",
      "│           ├── protein_concentration\n",
      "│           ├── ph\n",
      "│           └── role\n",
      "└── results\n",
      "    └── 0\n",
      "        ├── id\n",
      "        ├── kinetic_parameters\n",
      "        │   ├── id\n",
      "        │   ├── Km\n",
      "        │   ├── kcat\n",
      "        │   ├── V\n",
      "        │   ├── kcat_over_km\n",
      "        │   └── V_over_km\n",
      "        ├── inhibition_parameters\n",
      "        │   ├── id\n",
      "        │   ├── reversible\n",
      "        │   ├── inhibition_type\n",
      "        │   ├── Kic\n",
      "        │   ├── Kiu\n",
      "        │   └── Ki\n",
      "        └── activation_parameters\n",
      "            ├── id\n",
      "            ├── activation_affinity_constant\n",
      "            ├── velocity_at_no_activator\n",
      "            └── velocity_at_max_activator\n"
     ]
    },
    {
     "data": {
      "text/plain": [
       "ClassNode(/Dataset, class_name=None, constants={}, id=None, module=None, outer_type=None)"
      ]
     },
     "execution_count": 5,
     "metadata": {},
     "output_type": "execute_result"
    }
   ],
   "source": [
    "# Overview the tree of the model\n",
    "lib.Dataset.meta_tree()"
   ]
  }
 ],
 "metadata": {
  "kernelspec": {
   "display_name": "sdrdm",
   "language": "python",
   "name": "python3"
  },
  "language_info": {
   "codemirror_mode": {
    "name": "ipython",
    "version": 3
   },
   "file_extension": ".py",
   "mimetype": "text/x-python",
   "name": "python",
   "nbconvert_exporter": "python",
   "pygments_lexer": "ipython3",
   "version": "3.10.9"
  },
  "orig_nbformat": 4
 },
 "nbformat": 4,
 "nbformat_minor": 2
}
